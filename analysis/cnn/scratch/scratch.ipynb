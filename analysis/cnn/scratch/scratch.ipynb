{
 "cells": [
  {
   "cell_type": "code",
   "execution_count": 122,
   "metadata": {},
   "outputs": [],
   "source": [
    "def _crop(image, radius, orig_size):\n",
    "    image = x[in_field]\n",
    "    crop_range = [[tf.cast(tf.floor(s / 2) - r, tf.int32),\n",
    "                   tf.cast(tf.ceil(s / 2) + r, tf.int32)]\n",
    "                  for r, s in zip(radius, orig_size)]\n",
    "    x[out_field] = image[crop_range[0][0]:crop_range[0][1],\n",
    "                         crop_range[1][0]:crop_range[1][1],\n",
    "                         crop_range[2][0]:crop_range[2][1], :]\n",
    "    return x\n",
    "\n",
    "\n",
    "def _resample_3d(image, resample_size):\n",
    "    # resample twice, along XY then along YZ\n",
    "    # method = 0 is ResizeMethod.BILINEAR\n",
    "    # [x, y, z, 1]\n",
    "    image = tf.transpose(image, perm=[3, 0, 1, 2])\n",
    "    # [1, x, y, z]\n",
    "    image = tf.image.resize_images(image,\n",
    "                                   [resample_size[0],\n",
    "                                    resample_size[1]],\n",
    "                                   method=0)\n",
    "    image = tf.transpose(image, perm=[0, 2, 3, 1])\n",
    "    # [1, y, z, x]\n",
    "    image = tf.image.resize_images(image,\n",
    "                                   [resample_size[1],\n",
    "                                    resample_size[2]],\n",
    "                                   method=0)\n",
    "    image = tf.transpose(image, perm=[3, 1, 2, 0])\n",
    "    # [x, y, z, 1]\n",
    "    return image\n",
    "\n",
    "def serving_parallel_input_fn(self):\n",
    "    \"\"\"\n",
    "    sizes are hard coded for now... less than ideal.\n",
    "    model input fn for serving. Instead of an incoming tfrecords dataset,\n",
    "    we create placeholders for ct and size (that will be populated by nodule_generator)\n",
    "    \"\"\"\n",
    "\n",
    "    ct = tf.placeholder(tf.float32, [None, 65, 65, 65])\n",
    "    size = tf.placeholder(tf.float32, [None])\n",
    "\n",
    "    receiver_tensors = {\"patch\": ct, \"size\": size}\n",
    "\n",
    "    im_size = [-1, 65, 65, 65, 1]  # zyx to xyz + channels\n",
    "\n",
    "    features = {\"data\": tf.reshape(ct, im_size), \"size\": size}\n",
    "\n",
    "    def _crop_tight_cube(x, spacing_zyx):\n",
    "        if spacing_zyx is None:\n",
    "            spacing_zyx = tf.unstack(x[\"orig_spacing_zyx\"])\n",
    "\n",
    "        radius = [x[\"size\"] / tf.cast(s, tf.float32)\n",
    "                  for s in spacing_zyx]\n",
    "\n",
    "        return _crop(x, radius, orig_size=[65, 65, 65], out_field=\"crop_data\")\n",
    "\n",
    "    features = tf.map_fn(lambda f: _crop_tight_cube(f, [0.6, 0.6, 0.6]), features)\n",
    "\n",
    "    features = tf.map_fn(lambda f: _resample_3d(f, [33, 33, 33], \"crop_data\"), features)\n",
    "    features = tf.map_fn(lambda f: _resample_3d(features, [33, 33, 33], \"data\"), features)\n",
    "\n",
    "    features[\"data\"] = tf.reshape(features[\"data\"], [-1, 33, 33, 33, 1])\n",
    "    features[\"crop_data\"] = tf.reshape(features[\"crop_data\"], [-1, 33, 33, 33, 1])\n",
    "    return tf.estimator.export.ServingInputReceiver(features, receiver_tensors)"
   ]
  },
  {
   "cell_type": "code",
   "execution_count": 1,
   "metadata": {},
   "outputs": [],
   "source": [
    "# scratch"
   ]
  },
  {
   "cell_type": "code",
   "execution_count": null,
   "metadata": {},
   "outputs": [],
   "source": []
  },
  {
   "cell_type": "code",
   "execution_count": null,
   "metadata": {},
   "outputs": [],
   "source": []
  },
  {
   "cell_type": "code",
   "execution_count": 1,
   "metadata": {},
   "outputs": [],
   "source": [
    "import tensorflow as tf\n",
    "import numpy as np\n",
    "import pandas as pd\n",
    "import os"
   ]
  },
  {
   "cell_type": "code",
   "execution_count": 26,
   "metadata": {},
   "outputs": [],
   "source": [
    "labels = pd.read_csv(\"D:\\\\fmri\\\\ABCD\\\\data\\\\results\\\\validation_fluid_intelligenceV1.csv\")\n",
    "labels2 = pd.read_csv(\"D:\\\\fmri\\\\ABCD\\\\outputs\\\\1553400163-val.csv\")\n",
    "labels2\n",
    "df = labels.set_index(\"subject\").join(labels2.set_index(\"subject\"), on=\"subject\").head()"
   ]
  },
  {
   "cell_type": "code",
   "execution_count": 31,
   "metadata": {},
   "outputs": [],
   "source": [
    "df2 = labels2\n",
    "df2[\"residual_fluid_intelligence_score-pred\"] = df2[\"residual_fluid_intelligence_score-pred\"].apply(np.squeeze)"
   ]
  },
  {
   "cell_type": "code",
   "execution_count": 33,
   "metadata": {},
   "outputs": [
    {
     "data": {
      "text/plain": [
       "'[[0.88084674]]'"
      ]
     },
     "execution_count": 33,
     "metadata": {},
     "output_type": "execute_result"
    }
   ],
   "source": [
    "df2.iloc[0, 2]"
   ]
  },
  {
   "cell_type": "code",
   "execution_count": 27,
   "metadata": {},
   "outputs": [
    {
     "ename": "TypeError",
     "evalue": "ufunc 'subtract' did not contain a loop with signature matching types dtype('<U32') dtype('<U32') dtype('<U32')",
     "output_type": "error",
     "traceback": [
      "\u001b[1;31m---------------------------------------------------------------------------\u001b[0m",
      "\u001b[1;31mTypeError\u001b[0m                                 Traceback (most recent call last)",
      "\u001b[1;32mC:\\tools\\miniconda3\\envs\\miccai-abcd\\lib\\site-packages\\pandas\\core\\ops.py\u001b[0m in \u001b[0;36mna_op\u001b[1;34m(x, y)\u001b[0m\n\u001b[0;32m   1504\u001b[0m         \u001b[1;32mtry\u001b[0m\u001b[1;33m:\u001b[0m\u001b[1;33m\u001b[0m\u001b[1;33m\u001b[0m\u001b[0m\n\u001b[1;32m-> 1505\u001b[1;33m             \u001b[0mresult\u001b[0m \u001b[1;33m=\u001b[0m \u001b[0mexpressions\u001b[0m\u001b[1;33m.\u001b[0m\u001b[0mevaluate\u001b[0m\u001b[1;33m(\u001b[0m\u001b[0mop\u001b[0m\u001b[1;33m,\u001b[0m \u001b[0mstr_rep\u001b[0m\u001b[1;33m,\u001b[0m \u001b[0mx\u001b[0m\u001b[1;33m,\u001b[0m \u001b[0my\u001b[0m\u001b[1;33m,\u001b[0m \u001b[1;33m**\u001b[0m\u001b[0meval_kwargs\u001b[0m\u001b[1;33m)\u001b[0m\u001b[1;33m\u001b[0m\u001b[1;33m\u001b[0m\u001b[0m\n\u001b[0m\u001b[0;32m   1506\u001b[0m         \u001b[1;32mexcept\u001b[0m \u001b[0mTypeError\u001b[0m\u001b[1;33m:\u001b[0m\u001b[1;33m\u001b[0m\u001b[1;33m\u001b[0m\u001b[0m\n",
      "\u001b[1;32mC:\\tools\\miniconda3\\envs\\miccai-abcd\\lib\\site-packages\\pandas\\core\\computation\\expressions.py\u001b[0m in \u001b[0;36mevaluate\u001b[1;34m(op, op_str, a, b, use_numexpr, **eval_kwargs)\u001b[0m\n\u001b[0;32m    207\u001b[0m     \u001b[1;32mif\u001b[0m \u001b[0muse_numexpr\u001b[0m\u001b[1;33m:\u001b[0m\u001b[1;33m\u001b[0m\u001b[1;33m\u001b[0m\u001b[0m\n\u001b[1;32m--> 208\u001b[1;33m         \u001b[1;32mreturn\u001b[0m \u001b[0m_evaluate\u001b[0m\u001b[1;33m(\u001b[0m\u001b[0mop\u001b[0m\u001b[1;33m,\u001b[0m \u001b[0mop_str\u001b[0m\u001b[1;33m,\u001b[0m \u001b[0ma\u001b[0m\u001b[1;33m,\u001b[0m \u001b[0mb\u001b[0m\u001b[1;33m,\u001b[0m \u001b[1;33m**\u001b[0m\u001b[0meval_kwargs\u001b[0m\u001b[1;33m)\u001b[0m\u001b[1;33m\u001b[0m\u001b[1;33m\u001b[0m\u001b[0m\n\u001b[0m\u001b[0;32m    209\u001b[0m     \u001b[1;32mreturn\u001b[0m \u001b[0m_evaluate_standard\u001b[0m\u001b[1;33m(\u001b[0m\u001b[0mop\u001b[0m\u001b[1;33m,\u001b[0m \u001b[0mop_str\u001b[0m\u001b[1;33m,\u001b[0m \u001b[0ma\u001b[0m\u001b[1;33m,\u001b[0m \u001b[0mb\u001b[0m\u001b[1;33m)\u001b[0m\u001b[1;33m\u001b[0m\u001b[1;33m\u001b[0m\u001b[0m\n",
      "\u001b[1;32mC:\\tools\\miniconda3\\envs\\miccai-abcd\\lib\\site-packages\\pandas\\core\\computation\\expressions.py\u001b[0m in \u001b[0;36m_evaluate_standard\u001b[1;34m(op, op_str, a, b, **eval_kwargs)\u001b[0m\n\u001b[0;32m     67\u001b[0m     \u001b[1;32mwith\u001b[0m \u001b[0mnp\u001b[0m\u001b[1;33m.\u001b[0m\u001b[0merrstate\u001b[0m\u001b[1;33m(\u001b[0m\u001b[0mall\u001b[0m\u001b[1;33m=\u001b[0m\u001b[1;34m'ignore'\u001b[0m\u001b[1;33m)\u001b[0m\u001b[1;33m:\u001b[0m\u001b[1;33m\u001b[0m\u001b[1;33m\u001b[0m\u001b[0m\n\u001b[1;32m---> 68\u001b[1;33m         \u001b[1;32mreturn\u001b[0m \u001b[0mop\u001b[0m\u001b[1;33m(\u001b[0m\u001b[0ma\u001b[0m\u001b[1;33m,\u001b[0m \u001b[0mb\u001b[0m\u001b[1;33m)\u001b[0m\u001b[1;33m\u001b[0m\u001b[1;33m\u001b[0m\u001b[0m\n\u001b[0m\u001b[0;32m     69\u001b[0m \u001b[1;33m\u001b[0m\u001b[0m\n",
      "\u001b[1;31mTypeError\u001b[0m: unsupported operand type(s) for -: 'str' and 'float'",
      "\nDuring handling of the above exception, another exception occurred:\n",
      "\u001b[1;31mTypeError\u001b[0m                                 Traceback (most recent call last)",
      "\u001b[1;32mC:\\tools\\miniconda3\\envs\\miccai-abcd\\lib\\site-packages\\pandas\\core\\ops.py\u001b[0m in \u001b[0;36msafe_na_op\u001b[1;34m(lvalues, rvalues)\u001b[0m\n\u001b[0;32m   1528\u001b[0m             \u001b[1;32mwith\u001b[0m \u001b[0mnp\u001b[0m\u001b[1;33m.\u001b[0m\u001b[0merrstate\u001b[0m\u001b[1;33m(\u001b[0m\u001b[0mall\u001b[0m\u001b[1;33m=\u001b[0m\u001b[1;34m'ignore'\u001b[0m\u001b[1;33m)\u001b[0m\u001b[1;33m:\u001b[0m\u001b[1;33m\u001b[0m\u001b[1;33m\u001b[0m\u001b[0m\n\u001b[1;32m-> 1529\u001b[1;33m                 \u001b[1;32mreturn\u001b[0m \u001b[0mna_op\u001b[0m\u001b[1;33m(\u001b[0m\u001b[0mlvalues\u001b[0m\u001b[1;33m,\u001b[0m \u001b[0mrvalues\u001b[0m\u001b[1;33m)\u001b[0m\u001b[1;33m\u001b[0m\u001b[1;33m\u001b[0m\u001b[0m\n\u001b[0m\u001b[0;32m   1530\u001b[0m         \u001b[1;32mexcept\u001b[0m \u001b[0mException\u001b[0m\u001b[1;33m:\u001b[0m\u001b[1;33m\u001b[0m\u001b[1;33m\u001b[0m\u001b[0m\n",
      "\u001b[1;32mC:\\tools\\miniconda3\\envs\\miccai-abcd\\lib\\site-packages\\pandas\\core\\ops.py\u001b[0m in \u001b[0;36mna_op\u001b[1;34m(x, y)\u001b[0m\n\u001b[0;32m   1506\u001b[0m         \u001b[1;32mexcept\u001b[0m \u001b[0mTypeError\u001b[0m\u001b[1;33m:\u001b[0m\u001b[1;33m\u001b[0m\u001b[1;33m\u001b[0m\u001b[0m\n\u001b[1;32m-> 1507\u001b[1;33m             \u001b[0mresult\u001b[0m \u001b[1;33m=\u001b[0m \u001b[0mmasked_arith_op\u001b[0m\u001b[1;33m(\u001b[0m\u001b[0mx\u001b[0m\u001b[1;33m,\u001b[0m \u001b[0my\u001b[0m\u001b[1;33m,\u001b[0m \u001b[0mop\u001b[0m\u001b[1;33m)\u001b[0m\u001b[1;33m\u001b[0m\u001b[1;33m\u001b[0m\u001b[0m\n\u001b[0m\u001b[0;32m   1508\u001b[0m \u001b[1;33m\u001b[0m\u001b[0m\n",
      "\u001b[1;32mC:\\tools\\miniconda3\\envs\\miccai-abcd\\lib\\site-packages\\pandas\\core\\ops.py\u001b[0m in \u001b[0;36mmasked_arith_op\u001b[1;34m(x, y, op)\u001b[0m\n\u001b[0;32m   1008\u001b[0m                 result[mask] = op(xrav[mask],\n\u001b[1;32m-> 1009\u001b[1;33m                                   com.values_from_object(yrav[mask]))\n\u001b[0m\u001b[0;32m   1010\u001b[0m \u001b[1;33m\u001b[0m\u001b[0m\n",
      "\u001b[1;31mTypeError\u001b[0m: unsupported operand type(s) for -: 'str' and 'float'",
      "\nDuring handling of the above exception, another exception occurred:\n",
      "\u001b[1;31mTypeError\u001b[0m                                 Traceback (most recent call last)",
      "\u001b[1;32m<ipython-input-27-8bcdfacfde55>\u001b[0m in \u001b[0;36m<module>\u001b[1;34m\u001b[0m\n\u001b[1;32m----> 1\u001b[1;33m \u001b[0mdf\u001b[0m\u001b[1;33m[\u001b[0m\u001b[1;34m\"SSE\"\u001b[0m\u001b[1;33m]\u001b[0m \u001b[1;33m=\u001b[0m \u001b[1;33m(\u001b[0m\u001b[0mdf\u001b[0m\u001b[1;33m[\u001b[0m\u001b[1;34m\"residual_fluid_intelligence_score-pred\"\u001b[0m\u001b[1;33m]\u001b[0m \u001b[1;33m-\u001b[0m \u001b[0mdf\u001b[0m\u001b[1;33m[\u001b[0m\u001b[1;34m\"residual_fluid_intelligence_score\"\u001b[0m\u001b[1;33m]\u001b[0m\u001b[1;33m)\u001b[0m \u001b[1;33m**\u001b[0m \u001b[1;36m2\u001b[0m\u001b[1;33m\u001b[0m\u001b[1;33m\u001b[0m\u001b[0m\n\u001b[0m\u001b[0;32m      2\u001b[0m \u001b[0mprint\u001b[0m\u001b[1;33m(\u001b[0m\u001b[0mdf\u001b[0m\u001b[1;33m.\u001b[0m\u001b[0mmean\u001b[0m\u001b[1;33m(\u001b[0m\u001b[1;33m)\u001b[0m\u001b[1;33m)\u001b[0m\u001b[1;33m\u001b[0m\u001b[1;33m\u001b[0m\u001b[0m\n",
      "\u001b[1;32mC:\\tools\\miniconda3\\envs\\miccai-abcd\\lib\\site-packages\\pandas\\core\\ops.py\u001b[0m in \u001b[0;36mwrapper\u001b[1;34m(left, right)\u001b[0m\n\u001b[0;32m   1581\u001b[0m             \u001b[0mrvalues\u001b[0m \u001b[1;33m=\u001b[0m \u001b[0mrvalues\u001b[0m\u001b[1;33m.\u001b[0m\u001b[0mvalues\u001b[0m\u001b[1;33m\u001b[0m\u001b[1;33m\u001b[0m\u001b[0m\n\u001b[0;32m   1582\u001b[0m \u001b[1;33m\u001b[0m\u001b[0m\n\u001b[1;32m-> 1583\u001b[1;33m         \u001b[0mresult\u001b[0m \u001b[1;33m=\u001b[0m \u001b[0msafe_na_op\u001b[0m\u001b[1;33m(\u001b[0m\u001b[0mlvalues\u001b[0m\u001b[1;33m,\u001b[0m \u001b[0mrvalues\u001b[0m\u001b[1;33m)\u001b[0m\u001b[1;33m\u001b[0m\u001b[1;33m\u001b[0m\u001b[0m\n\u001b[0m\u001b[0;32m   1584\u001b[0m         return construct_result(left, result,\n\u001b[0;32m   1585\u001b[0m                                 index=left.index, name=res_name, dtype=None)\n",
      "\u001b[1;32mC:\\tools\\miniconda3\\envs\\miccai-abcd\\lib\\site-packages\\pandas\\core\\ops.py\u001b[0m in \u001b[0;36msafe_na_op\u001b[1;34m(lvalues, rvalues)\u001b[0m\n\u001b[0;32m   1531\u001b[0m             \u001b[1;32mif\u001b[0m \u001b[0mis_object_dtype\u001b[0m\u001b[1;33m(\u001b[0m\u001b[0mlvalues\u001b[0m\u001b[1;33m)\u001b[0m\u001b[1;33m:\u001b[0m\u001b[1;33m\u001b[0m\u001b[1;33m\u001b[0m\u001b[0m\n\u001b[0;32m   1532\u001b[0m                 return libalgos.arrmap_object(lvalues,\n\u001b[1;32m-> 1533\u001b[1;33m                                               lambda x: op(x, rvalues))\n\u001b[0m\u001b[0;32m   1534\u001b[0m             \u001b[1;32mraise\u001b[0m\u001b[1;33m\u001b[0m\u001b[1;33m\u001b[0m\u001b[0m\n\u001b[0;32m   1535\u001b[0m \u001b[1;33m\u001b[0m\u001b[0m\n",
      "\u001b[1;32mpandas/_libs/algos.pyx\u001b[0m in \u001b[0;36mpandas._libs.algos.arrmap\u001b[1;34m()\u001b[0m\n",
      "\u001b[1;32mC:\\tools\\miniconda3\\envs\\miccai-abcd\\lib\\site-packages\\pandas\\core\\ops.py\u001b[0m in \u001b[0;36m<lambda>\u001b[1;34m(x)\u001b[0m\n\u001b[0;32m   1531\u001b[0m             \u001b[1;32mif\u001b[0m \u001b[0mis_object_dtype\u001b[0m\u001b[1;33m(\u001b[0m\u001b[0mlvalues\u001b[0m\u001b[1;33m)\u001b[0m\u001b[1;33m:\u001b[0m\u001b[1;33m\u001b[0m\u001b[1;33m\u001b[0m\u001b[0m\n\u001b[0;32m   1532\u001b[0m                 return libalgos.arrmap_object(lvalues,\n\u001b[1;32m-> 1533\u001b[1;33m                                               lambda x: op(x, rvalues))\n\u001b[0m\u001b[0;32m   1534\u001b[0m             \u001b[1;32mraise\u001b[0m\u001b[1;33m\u001b[0m\u001b[1;33m\u001b[0m\u001b[0m\n\u001b[0;32m   1535\u001b[0m \u001b[1;33m\u001b[0m\u001b[0m\n",
      "\u001b[1;31mTypeError\u001b[0m: ufunc 'subtract' did not contain a loop with signature matching types dtype('<U32') dtype('<U32') dtype('<U32')"
     ]
    }
   ],
   "source": [
    "df[\"SSE\"] = (df[\"residual_fluid_intelligence_score-pred\"] - df[\"residual_fluid_intelligence_score\"]) ** 2\n",
    "print(df.mean())"
   ]
  },
  {
   "cell_type": "code",
   "execution_count": 28,
   "metadata": {},
   "outputs": [
    {
     "data": {
      "text/html": [
       "<div>\n",
       "<style scoped>\n",
       "    .dataframe tbody tr th:only-of-type {\n",
       "        vertical-align: middle;\n",
       "    }\n",
       "\n",
       "    .dataframe tbody tr th {\n",
       "        vertical-align: top;\n",
       "    }\n",
       "\n",
       "    .dataframe thead th {\n",
       "        text-align: right;\n",
       "    }\n",
       "</style>\n",
       "<table border=\"1\" class=\"dataframe\">\n",
       "  <thead>\n",
       "    <tr style=\"text-align: right;\">\n",
       "      <th></th>\n",
       "      <th>residual_fluid_intelligence_score</th>\n",
       "      <th>Unnamed: 0</th>\n",
       "      <th>residual_fluid_intelligence_score-pred</th>\n",
       "    </tr>\n",
       "    <tr>\n",
       "      <th>subject</th>\n",
       "      <th></th>\n",
       "      <th></th>\n",
       "      <th></th>\n",
       "    </tr>\n",
       "  </thead>\n",
       "  <tbody>\n",
       "    <tr>\n",
       "      <th>NDAR_INV01NAYMZH</th>\n",
       "      <td>-9.362391</td>\n",
       "      <td>0</td>\n",
       "      <td>[[0.88084674]]</td>\n",
       "    </tr>\n",
       "    <tr>\n",
       "      <th>NDAR_INV042UJKFB</th>\n",
       "      <td>-6.568116</td>\n",
       "      <td>1</td>\n",
       "      <td>[[0.9113524]]</td>\n",
       "    </tr>\n",
       "    <tr>\n",
       "      <th>NDAR_INV08AT7TLH</th>\n",
       "      <td>-14.810930</td>\n",
       "      <td>2</td>\n",
       "      <td>[[0.97382104]]</td>\n",
       "    </tr>\n",
       "    <tr>\n",
       "      <th>NDAR_INV0B7UGM1D</th>\n",
       "      <td>-0.050626</td>\n",
       "      <td>3</td>\n",
       "      <td>[[0.93744165]]</td>\n",
       "    </tr>\n",
       "    <tr>\n",
       "      <th>NDAR_INV0CP9XGTP</th>\n",
       "      <td>-5.327854</td>\n",
       "      <td>4</td>\n",
       "      <td>[[0.7292697]]</td>\n",
       "    </tr>\n",
       "  </tbody>\n",
       "</table>\n",
       "</div>"
      ],
      "text/plain": [
       "                  residual_fluid_intelligence_score  Unnamed: 0  \\\n",
       "subject                                                           \n",
       "NDAR_INV01NAYMZH                          -9.362391           0   \n",
       "NDAR_INV042UJKFB                          -6.568116           1   \n",
       "NDAR_INV08AT7TLH                         -14.810930           2   \n",
       "NDAR_INV0B7UGM1D                          -0.050626           3   \n",
       "NDAR_INV0CP9XGTP                          -5.327854           4   \n",
       "\n",
       "                 residual_fluid_intelligence_score-pred  \n",
       "subject                                                  \n",
       "NDAR_INV01NAYMZH                         [[0.88084674]]  \n",
       "NDAR_INV042UJKFB                          [[0.9113524]]  \n",
       "NDAR_INV08AT7TLH                         [[0.97382104]]  \n",
       "NDAR_INV0B7UGM1D                         [[0.93744165]]  \n",
       "NDAR_INV0CP9XGTP                          [[0.7292697]]  "
      ]
     },
     "execution_count": 28,
     "metadata": {},
     "output_type": "execute_result"
    }
   ],
   "source": [
    "df"
   ]
  },
  {
   "cell_type": "code",
   "execution_count": 3,
   "metadata": {},
   "outputs": [
    {
     "data": {
      "text/plain": [
       "Index(['BrStem_volume', 'L_Accu_volume', 'R_Accu_volume', 'L_Amyg_volume',\n",
       "       'R_Amyg_volume', 'L_Caud_volume', 'R_Caud_volume', 'L_Hipp_volume',\n",
       "       'R_Hipp_volume', 'L_Pall_volume',\n",
       "       ...\n",
       "       'Petersen_257_intstdev', 'Petersen_258_intstdev',\n",
       "       'Petersen_259_intstdev', 'Petersen_260_intstdev',\n",
       "       'Petersen_261_intstdev', 'Petersen_262_intstdev',\n",
       "       'Petersen_263_intstdev', 'Petersen_264_intstdev',\n",
       "       'Petersen_265_intstdev', 'Petersen_266_intstdev'],\n",
       "      dtype='object', length=1539)"
      ]
     },
     "execution_count": 3,
     "metadata": {},
     "output_type": "execute_result"
    }
   ],
   "source": [
    "a = pd.read_excel(\n",
    "                os.path.join(\"D:\\\\\", \"Downloads\", \"ALL_measures_evan_testing.xlsx\"),\n",
    "                header=0,\n",
    "                skiprows=1).replace(\"missing\", 0).rename(columns={\"ID\": \"subject\"}).set_index(\"subject\", drop=True).fillna(0)\n",
    "a.columns"
   ]
  },
  {
   "cell_type": "code",
   "execution_count": 6,
   "metadata": {},
   "outputs": [
    {
     "name": "stderr",
     "output_type": "stream",
     "text": [
      "C:\\tools\\miniconda3\\envs\\miccai-abcd\\lib\\site-packages\\ipykernel_launcher.py:12: FutureWarning: Sorting because non-concatenation axis is not aligned. A future version\n",
      "of pandas will change to not sort by default.\n",
      "\n",
      "To accept the future behavior, pass 'sort=False'.\n",
      "\n",
      "To retain the current behavior and silence the warning, pass 'sort=True'.\n",
      "\n",
      "  if sys.path[0] == '':\n"
     ]
    }
   ],
   "source": [
    "root = \"D:\\\\\"\n",
    "DATA_DIR = os.path.join(root, \"fmri\", \"ABCD\", \"data\")\n",
    "\n",
    "vol_labels = pd.concat(\n",
    "            [pd.read_excel(\n",
    "                os.path.join(DATA_DIR, \"results\", \"ALL_measures_evan.xlsx\"),\n",
    "                header=0,\n",
    "                skiprows=1),\n",
    "             pd.read_excel(\n",
    "                os.path.join(DATA_DIR, \"results\", \"ALL_measures_evan_validation.xlsx\"),\n",
    "                header=0,\n",
    "                skiprows=1)])"
   ]
  },
  {
   "cell_type": "code",
   "execution_count": 7,
   "metadata": {},
   "outputs": [
    {
     "data": {
      "text/plain": [
       "(4154, 1570)"
      ]
     },
     "execution_count": 7,
     "metadata": {},
     "output_type": "execute_result"
    }
   ],
   "source": [
    "vol_labels.shape"
   ]
  },
  {
   "cell_type": "code",
   "execution_count": 17,
   "metadata": {},
   "outputs": [
    {
     "name": "stderr",
     "output_type": "stream",
     "text": [
      "C:\\tools\\miniconda3\\envs\\miccai-abcd\\lib\\site-packages\\ipykernel_launcher.py:13: FutureWarning: Sorting because non-concatenation axis is not aligned. A future version\n",
      "of pandas will change to not sort by default.\n",
      "\n",
      "To accept the future behavior, pass 'sort=False'.\n",
      "\n",
      "To retain the current behavior and silence the warning, pass 'sort=True'.\n",
      "\n",
      "  del sys.path[0]\n"
     ]
    }
   ],
   "source": [
    "vol_labels_all = pd.concat(\n",
    "            [pd.read_excel(\n",
    "                os.path.join(DATA_DIR, \"results\", \"ALL_measures_evan.xlsx\"),\n",
    "                header=0,\n",
    "                skiprows=1),\n",
    "             pd.read_excel(\n",
    "                os.path.join(DATA_DIR, \"results\", \"ALL_measures_evan_validation.xlsx\"),\n",
    "                header=0,\n",
    "                skiprows=1),\n",
    "             pd.read_excel(\n",
    "                os.path.join(DATA_DIR, \"results\", \"ALL_measures_evan_testing.xlsx\"),\n",
    "                header=0,\n",
    "                skiprows=1)\n",
    "            ]).replace(\"missing\", 0).rename(columns={\"ID\": \"subject\"}).set_index(\"subject\", drop=True).fillna(0)"
   ]
  },
  {
   "cell_type": "code",
   "execution_count": 19,
   "metadata": {},
   "outputs": [
    {
     "name": "stderr",
     "output_type": "stream",
     "text": [
      "C:\\tools\\miniconda3\\envs\\miccai-abcd\\lib\\site-packages\\ipykernel_launcher.py:10: FutureWarning: Sorting because non-concatenation axis is not aligned. A future version\n",
      "of pandas will change to not sort by default.\n",
      "\n",
      "To accept the future behavior, pass 'sort=False'.\n",
      "\n",
      "To retain the current behavior and silence the warning, pass 'sort=True'.\n",
      "\n",
      "  # Remove the CWD from sys.path while we load stuff.\n"
     ]
    }
   ],
   "source": [
    " \n",
    "vol_labels_trte = pd.concat(\n",
    "            [pd.read_excel(\n",
    "                os.path.join(DATA_DIR, \"results\", \"ALL_measures_evan.xlsx\"),\n",
    "                header=0,\n",
    "                skiprows=1),\n",
    "             pd.read_excel(\n",
    "                os.path.join(DATA_DIR, \"results\", \"ALL_measures_evan_testing.xlsx\"),\n",
    "                header=0,\n",
    "                skiprows=1)\n",
    "            ]).replace(\"missing\", 0).rename(columns={\"ID\": \"subject\"}).set_index(\"subject\", drop=True).fillna(0)"
   ]
  },
  {
   "cell_type": "code",
   "execution_count": 22,
   "metadata": {},
   "outputs": [
    {
     "data": {
      "text/plain": [
       "set()"
      ]
     },
     "execution_count": 22,
     "metadata": {},
     "output_type": "execute_result"
    }
   ],
   "source": [
    "set(vol_labels_all.columns) - set(vol_labels_trte.columns)"
   ]
  },
  {
   "cell_type": "code",
   "execution_count": 10,
   "metadata": {},
   "outputs": [
    {
     "data": {
      "text/plain": [
       "Index(['BrStem_entropy', 'BrStem_intmean', 'BrStem_intstdev', 'BrStem_volume',\n",
       "       'L_Accu_entropy', 'L_Accu_intmean', 'L_Accu_intstdev', 'L_Accu_volume',\n",
       "       'L_Amyg_entropy', 'L_Amyg_intmean',\n",
       "       ...\n",
       "       'sri24vermis3gm_volume', 'sri24vtlslateralvtllcsf',\n",
       "       'sri24vtlslateralvtlrcsf', 'sri24vtlsthirdvtllcsf',\n",
       "       'sri24vtlsthirdvtlrcsf', 'sri24wm400wm400lwm', 'sri24wm400wm400rwm',\n",
       "       'suptent supratentorium volume',\n",
       "       'white matter volume within the left hemisphere of the subcortical white matter region (including the centrum semiovale)',\n",
       "       'white matter volume within the right hemisphere of the subcortical white matter region (including the centrum semiovale)'],\n",
       "      dtype='object', length=1630)"
      ]
     },
     "execution_count": 10,
     "metadata": {},
     "output_type": "execute_result"
    }
   ],
   "source": [
    "vol_labels_all.columns"
   ]
  },
  {
   "cell_type": "code",
   "execution_count": 11,
   "metadata": {},
   "outputs": [],
   "source": [
    "val = pd.read_excel(\n",
    "                os.path.join(DATA_DIR, \"results\", \"ALL_measures_evan_validation.xlsx\"),\n",
    "                header=0,\n",
    "                skiprows=1).replace(\"missing\", 0).rename(columns={\"ID\": \"subject\"}).set_index(\"subject\", drop=True).fillna(0)"
   ]
  },
  {
   "cell_type": "code",
   "execution_count": 12,
   "metadata": {},
   "outputs": [
    {
     "data": {
      "text/plain": [
       "(415, 1539)"
      ]
     },
     "execution_count": 12,
     "metadata": {},
     "output_type": "execute_result"
    }
   ],
   "source": [
    "val.shape"
   ]
  },
  {
   "cell_type": "code",
   "execution_count": 13,
   "metadata": {},
   "outputs": [
    {
     "data": {
      "text/plain": [
       "(4515, 1539)"
      ]
     },
     "execution_count": 13,
     "metadata": {},
     "output_type": "execute_result"
    }
   ],
   "source": [
    "test = pd.read_excel(\n",
    "    os.path.join(DATA_DIR, \"results\", \"ALL_measures_evan_testing.xlsx\"),\n",
    "    header=0,\n",
    "    skiprows=1).replace(\"missing\", 0).rename(columns={\"ID\": \"subject\"}).set_index(\"subject\", drop=True).fillna(0)\n",
    "\n",
    "test.shape"
   ]
  },
  {
   "cell_type": "code",
   "execution_count": 16,
   "metadata": {},
   "outputs": [
    {
     "data": {
      "text/plain": [
       "(3739, 1539)"
      ]
     },
     "execution_count": 16,
     "metadata": {},
     "output_type": "execute_result"
    }
   ],
   "source": [
    "train = pd.read_excel(\n",
    "    os.path.join(DATA_DIR, \"results\", \"ALL_measures_evan.xlsx\"),\n",
    "    header=0,\n",
    "    skiprows=1).replace(\"missing\", 0).rename(columns={\"ID\": \"subject\"}).set_index(\"subject\", drop=True).fillna(0)\n",
    "\n",
    "train.shape"
   ]
  },
  {
   "cell_type": "code",
   "execution_count": null,
   "metadata": {},
   "outputs": [],
   "source": [
    "sri24R_Accu_volume    sri24L_Amyg_volume    sri24R_Amyg_volume    sri24L_Caud_volume    sri24R_Caud_volume    sri24L_Hipp_volume    sri24R_Hipp_volume    sri24L_Pall_volume    sri24R_Pall_volume    sri24L_Puta_volume    sri24R_Puta_volume    sri24L_Thal_volume    sri24R_Thal_volume"
   ]
  },
  {
   "cell_type": "code",
   "execution_count": 6,
   "metadata": {},
   "outputs": [],
   "source": [
    "image = tf.placeholder(tf.float32, [None, None, None])\n",
    "volume = tf.placeholder(tf.float32, [5])\n",
    "entropy = tf.placeholder(tf.float32, [10])\n",
    "\n",
    "features = {\"image\": image, \"volume\": volume, \"entropy\": entropy}\n",
    "features[\"image\"] = tf.reshape(features[\"image\"], [-1] + [5, 5, 5] + [1])\n",
    "features[\"volume\"] = tf.reshape(features[\"volume\"], [-1, 5])\n",
    "features[\"entropy\"] = tf.reshape(features[\"entropy\"], [-1, 10])\n",
    "\n",
    "receiving_input_tensors = {\"image\": image, \"volume\": volume, \"entropy\": entropy}"
   ]
  },
  {
   "cell_type": "code",
   "execution_count": 7,
   "metadata": {},
   "outputs": [
    {
     "data": {
      "text/plain": [
       "({'image': <tf.Tensor 'Reshape_3:0' shape=(?, 5, 5, 5, 1) dtype=float32>,\n",
       "  'volume': <tf.Tensor 'Reshape_4:0' shape=(1, 5) dtype=float32>,\n",
       "  'entropy': <tf.Tensor 'Reshape_5:0' shape=(1, 10) dtype=float32>},\n",
       " {'image': <tf.Tensor 'Placeholder_3:0' shape=(?, ?, ?) dtype=float32>,\n",
       "  'volume': <tf.Tensor 'Placeholder_4:0' shape=(5,) dtype=float32>,\n",
       "  'entropy': <tf.Tensor 'Placeholder_5:0' shape=(10,) dtype=float32>})"
      ]
     },
     "execution_count": 7,
     "metadata": {},
     "output_type": "execute_result"
    }
   ],
   "source": [
    "features, receiving_input_tensors"
   ]
  },
  {
   "cell_type": "code",
   "execution_count": 4,
   "metadata": {},
   "outputs": [
    {
     "name": "stdout",
     "output_type": "stream",
     "text": [
      "{'image': array([[[[[0.],\n",
      "          [0.],\n",
      "          [0.],\n",
      "          [0.],\n",
      "          [0.]],\n",
      "\n",
      "         [[0.],\n",
      "          [0.],\n",
      "          [0.],\n",
      "          [0.],\n",
      "          [0.]],\n",
      "\n",
      "         [[0.],\n",
      "          [0.],\n",
      "          [0.],\n",
      "          [0.],\n",
      "          [0.]],\n",
      "\n",
      "         [[0.],\n",
      "          [0.],\n",
      "          [0.],\n",
      "          [0.],\n",
      "          [0.]],\n",
      "\n",
      "         [[0.],\n",
      "          [0.],\n",
      "          [0.],\n",
      "          [0.],\n",
      "          [0.]]],\n",
      "\n",
      "\n",
      "        [[[0.],\n",
      "          [0.],\n",
      "          [0.],\n",
      "          [0.],\n",
      "          [0.]],\n",
      "\n",
      "         [[0.],\n",
      "          [0.],\n",
      "          [0.],\n",
      "          [0.],\n",
      "          [0.]],\n",
      "\n",
      "         [[0.],\n",
      "          [0.],\n",
      "          [0.],\n",
      "          [0.],\n",
      "          [0.]],\n",
      "\n",
      "         [[0.],\n",
      "          [0.],\n",
      "          [0.],\n",
      "          [0.],\n",
      "          [0.]],\n",
      "\n",
      "         [[0.],\n",
      "          [0.],\n",
      "          [0.],\n",
      "          [0.],\n",
      "          [0.]]],\n",
      "\n",
      "\n",
      "        [[[0.],\n",
      "          [0.],\n",
      "          [0.],\n",
      "          [0.],\n",
      "          [0.]],\n",
      "\n",
      "         [[0.],\n",
      "          [0.],\n",
      "          [0.],\n",
      "          [0.],\n",
      "          [0.]],\n",
      "\n",
      "         [[0.],\n",
      "          [0.],\n",
      "          [0.],\n",
      "          [0.],\n",
      "          [0.]],\n",
      "\n",
      "         [[0.],\n",
      "          [0.],\n",
      "          [0.],\n",
      "          [0.],\n",
      "          [0.]],\n",
      "\n",
      "         [[0.],\n",
      "          [0.],\n",
      "          [0.],\n",
      "          [0.],\n",
      "          [0.]]],\n",
      "\n",
      "\n",
      "        [[[0.],\n",
      "          [0.],\n",
      "          [0.],\n",
      "          [0.],\n",
      "          [0.]],\n",
      "\n",
      "         [[0.],\n",
      "          [0.],\n",
      "          [0.],\n",
      "          [0.],\n",
      "          [0.]],\n",
      "\n",
      "         [[0.],\n",
      "          [0.],\n",
      "          [0.],\n",
      "          [0.],\n",
      "          [0.]],\n",
      "\n",
      "         [[0.],\n",
      "          [0.],\n",
      "          [0.],\n",
      "          [0.],\n",
      "          [0.]],\n",
      "\n",
      "         [[0.],\n",
      "          [0.],\n",
      "          [0.],\n",
      "          [0.],\n",
      "          [0.]]],\n",
      "\n",
      "\n",
      "        [[[0.],\n",
      "          [0.],\n",
      "          [0.],\n",
      "          [0.],\n",
      "          [0.]],\n",
      "\n",
      "         [[0.],\n",
      "          [0.],\n",
      "          [0.],\n",
      "          [0.],\n",
      "          [0.]],\n",
      "\n",
      "         [[0.],\n",
      "          [0.],\n",
      "          [0.],\n",
      "          [0.],\n",
      "          [0.]],\n",
      "\n",
      "         [[0.],\n",
      "          [0.],\n",
      "          [0.],\n",
      "          [0.],\n",
      "          [0.]],\n",
      "\n",
      "         [[0.],\n",
      "          [0.],\n",
      "          [0.],\n",
      "          [0.],\n",
      "          [0.]]]]], dtype=float32), 'volume': array([[0., 0., 0., 0., 0.]], dtype=float32), 'entropy': array([[0., 0., 0., 0., 0., 0., 0., 0., 0., 0.]], dtype=float32)}\n"
     ]
    }
   ],
   "source": [
    "init_patch = np.zeros([5, 5, 5])\n",
    "init_volume = np.zeros([5])\n",
    "init_entropy = np.zeros([10])\n",
    "\n",
    "with tf.Session() as sess:\n",
    "    print(sess.run(features, feed_dict={\n",
    "        image: init_patch,\n",
    "        volume: init_volume,\n",
    "        entropy: init_entropy\n",
    "    }))"
   ]
  },
  {
   "cell_type": "code",
   "execution_count": 25,
   "metadata": {},
   "outputs": [],
   "source": [
    "tf.reset_default_graph()\n",
    "\n",
    "\n",
    "ct = tf.placeholder(tf.float32, [None, 65, 65, 65])\n",
    "size = tf.placeholder(tf.float32, [None])\n",
    "\n",
    "receiver_tensors = {\"patch\": ct, \"size\": size}\n",
    "\n",
    "im_size = [-1, 65, 65, 65, 1]  # zyx to xyz + channels\n",
    "\n",
    "data = tf.reshape(ct, im_size)\n",
    "\n",
    "def _crop(image, radius, orig_size):\n",
    "    crop_range = [[tf.cast(tf.floor(s / 2) - r, tf.int32),\n",
    "               tf.cast(tf.ceil(s / 2) + r, tf.int32)]\n",
    "              for r, s in zip(radius, orig_size)]\n",
    "    return image[crop_range[0][0]:crop_range[0][1],\n",
    "                 crop_range[1][0]:crop_range[1][1],\n",
    "                 crop_range[2][0]:crop_range[2][1], :]\n",
    "\n",
    "def _resample_3d(image, resample_size):\n",
    "    # resample twice, along XY then along YZ\n",
    "    # method = 0 is ResizeMethod.BILINEAR\n",
    "    # [x, y, z, 1]\n",
    "    image = tf.transpose(image, perm=[3, 0, 1, 2])\n",
    "    # [1, x, y, z]\n",
    "    image = tf.image.resize_images(image,\n",
    "                                   [resample_size[0],\n",
    "                                    resample_size[1]],\n",
    "                                   method=0)\n",
    "    image = tf.transpose(image, perm=[0, 2, 3, 1])\n",
    "    # [1, y, z, x]\n",
    "    image = tf.image.resize_images(image,\n",
    "                                   [resample_size[1],\n",
    "                                    resample_size[2]],\n",
    "                                   method=0)\n",
    "    image = tf.transpose(image, perm=[3, 1, 2, 0])\n",
    "    # [x, y, z, 1]\n",
    "    return image\n",
    "\n",
    "def _crop_tight_cube(x, size, spacing_zyx):\n",
    "    radius = [size / tf.cast(s, tf.float32)\n",
    "              for s in spacing_zyx]\n",
    "    return _crop(x, radius, orig_size=[65, 65, 65])\n",
    "\n",
    "\n",
    "crop_data = tf.map_fn(lambda x: _resample_3d(_crop_tight_cube(x[0], x[1], [0.6, 0.6, 0.6]), [33, 33, 33]), (data, size), dtype=tf.float32)\n",
    "data = tf.map_fn(lambda x: _resample_3d(x, [33, 33, 33]), data, dtype=tf.float32)\n",
    "features = {\"data\": data, \"crop_data\": crop_data, \"size\": size}\n",
    "\n",
    "\n",
    "# features = tf.map_fn(lambda f: _crop_tight_cube(f, [0.6, 0.6, 0.6]), features, dtype={\"data\": tf.float32, \"size\": tf.float32, \"crop_data\": tf.float32})\n",
    "\n",
    "# features = tf.map_fn(lambda f: _resample_3d(f, [33, 33, 33], \"crop_data\"), features)\n",
    "# features = tf.map_fn(lambda f: _resample_3d(features, [33, 33, 33], \"data\"), features)\n",
    "\n",
    "# features[\"data\"] = tf.reshape(features[\"data\"], [-1, 33, 33, 33, 1])\n",
    "# features[\"crop_data\"] = tf.reshape(features[\"crop_data\"], [-1, 33, 33, 33, 1])"
   ]
  },
  {
   "cell_type": "code",
   "execution_count": 26,
   "metadata": {},
   "outputs": [],
   "source": [
    "b = 1\n",
    "test = np.reshape(np.arange(65**3* b), [b, 65, 65, 65])\n",
    "with tf.Session() as sess:\n",
    "    f = sess.run(features, feed_dict={ct: test, size: [5]})\n",
    "#     c = sess.run(crop_data, feed_dict={ct: test, size: [5, 7]})\n",
    "#     r = sess.run(radius, feed_dict={ct: test, size: [5, 3]})\n"
   ]
  },
  {
   "cell_type": "code",
   "execution_count": 27,
   "metadata": {},
   "outputs": [
    {
     "data": {
      "text/plain": [
       "(1, 33, 33, 33, 1)"
      ]
     },
     "execution_count": 27,
     "metadata": {},
     "output_type": "execute_result"
    }
   ],
   "source": [
    "f[\"data\"].shape"
   ]
  },
  {
   "cell_type": "code",
   "execution_count": 28,
   "metadata": {},
   "outputs": [
    {
     "data": {
      "text/plain": [
       "(1, 33, 33, 33, 1)"
      ]
     },
     "execution_count": 28,
     "metadata": {},
     "output_type": "execute_result"
    }
   ],
   "source": [
    "f[\"crop_data\"].shape"
   ]
  },
  {
   "cell_type": "code",
   "execution_count": 29,
   "metadata": {},
   "outputs": [
    {
     "ename": "IndexError",
     "evalue": "too many indices for array",
     "output_type": "error",
     "traceback": [
      "\u001b[1;31m---------------------------------------------------------------------------\u001b[0m",
      "\u001b[1;31mIndexError\u001b[0m                                Traceback (most recent call last)",
      "\u001b[1;32m<ipython-input-29-af560cd87ea7>\u001b[0m in \u001b[0;36m<module>\u001b[1;34m\u001b[0m\n\u001b[0;32m      2\u001b[0m \u001b[1;33m\u001b[0m\u001b[0m\n\u001b[0;32m      3\u001b[0m \u001b[0mfig\u001b[0m\u001b[1;33m,\u001b[0m \u001b[0maxarr\u001b[0m \u001b[1;33m=\u001b[0m \u001b[0mplt\u001b[0m\u001b[1;33m.\u001b[0m\u001b[0msubplots\u001b[0m\u001b[1;33m(\u001b[0m\u001b[1;36m3\u001b[0m\u001b[1;33m)\u001b[0m\u001b[1;33m\u001b[0m\u001b[1;33m\u001b[0m\u001b[0m\n\u001b[1;32m----> 4\u001b[1;33m \u001b[0maxarr\u001b[0m\u001b[1;33m[\u001b[0m\u001b[1;36m0\u001b[0m\u001b[1;33m]\u001b[0m\u001b[1;33m.\u001b[0m\u001b[0mimshow\u001b[0m\u001b[1;33m(\u001b[0m\u001b[0mf\u001b[0m\u001b[1;33m[\u001b[0m\u001b[1;34m\"crop_data\"\u001b[0m\u001b[1;33m]\u001b[0m\u001b[1;33m.\u001b[0m\u001b[0msqueeze\u001b[0m\u001b[1;33m(\u001b[0m\u001b[1;33m)\u001b[0m\u001b[1;33m[\u001b[0m\u001b[1;36m0\u001b[0m\u001b[1;33m,\u001b[0m \u001b[1;36m16\u001b[0m\u001b[1;33m,\u001b[0m \u001b[1;33m:\u001b[0m\u001b[1;33m,\u001b[0m \u001b[1;33m:\u001b[0m\u001b[1;33m]\u001b[0m\u001b[1;33m)\u001b[0m\u001b[1;33m\u001b[0m\u001b[1;33m\u001b[0m\u001b[0m\n\u001b[0m\u001b[0;32m      5\u001b[0m \u001b[0maxarr\u001b[0m\u001b[1;33m[\u001b[0m\u001b[1;36m1\u001b[0m\u001b[1;33m]\u001b[0m\u001b[1;33m.\u001b[0m\u001b[0mimshow\u001b[0m\u001b[1;33m(\u001b[0m\u001b[0mf\u001b[0m\u001b[1;33m[\u001b[0m\u001b[1;34m\"crop_data\"\u001b[0m\u001b[1;33m]\u001b[0m\u001b[1;33m.\u001b[0m\u001b[0msqueeze\u001b[0m\u001b[1;33m(\u001b[0m\u001b[1;33m)\u001b[0m\u001b[1;33m[\u001b[0m\u001b[1;36m0\u001b[0m\u001b[1;33m,\u001b[0m \u001b[1;33m:\u001b[0m\u001b[1;33m,\u001b[0m \u001b[1;36m16\u001b[0m\u001b[1;33m,\u001b[0m \u001b[1;33m:\u001b[0m\u001b[1;33m]\u001b[0m\u001b[1;33m)\u001b[0m\u001b[1;33m\u001b[0m\u001b[1;33m\u001b[0m\u001b[0m\n\u001b[0;32m      6\u001b[0m \u001b[0mim\u001b[0m \u001b[1;33m=\u001b[0m \u001b[0maxarr\u001b[0m\u001b[1;33m[\u001b[0m\u001b[1;36m2\u001b[0m\u001b[1;33m]\u001b[0m\u001b[1;33m.\u001b[0m\u001b[0mimshow\u001b[0m\u001b[1;33m(\u001b[0m\u001b[0mf\u001b[0m\u001b[1;33m[\u001b[0m\u001b[1;34m\"crop_data\"\u001b[0m\u001b[1;33m]\u001b[0m\u001b[1;33m.\u001b[0m\u001b[0msqueeze\u001b[0m\u001b[1;33m(\u001b[0m\u001b[1;33m)\u001b[0m\u001b[1;33m[\u001b[0m\u001b[1;36m0\u001b[0m\u001b[1;33m,\u001b[0m \u001b[1;33m:\u001b[0m\u001b[1;33m,\u001b[0m \u001b[1;33m:\u001b[0m\u001b[1;33m,\u001b[0m \u001b[1;36m16\u001b[0m\u001b[1;33m]\u001b[0m\u001b[1;33m)\u001b[0m\u001b[1;33m\u001b[0m\u001b[1;33m\u001b[0m\u001b[0m\n",
      "\u001b[1;31mIndexError\u001b[0m: too many indices for array"
     ]
    },
    {
     "data": {
      "image/png": "[encoded data removed]",
      "text/plain": [
       "<Figure size 432x288 with 3 Axes>"
      ]
     },
     "metadata": {
      "needs_background": "light"
     },
     "output_type": "display_data"
    }
   ],
   "source": [
    "batch_size = 10\n",
    "\n",
    "for i, (patch, size) in enumerate(ng):\n",
    "    tf.logging.info(\"processing nodule {}\".format(i))\n",
    "    nodule = classifier({\"patch\": patch, \"size\": size})\n",
    "    dets[det_field_name][i] = parse_result(dets[det_field_name][i], nodule)"
   ]
  },
  {
   "cell_type": "code",
   "execution_count": 30,
   "metadata": {},
   "outputs": [
    {
     "ename": "IndexError",
     "evalue": "too many indices for array",
     "output_type": "error",
     "traceback": [
      "\u001b[1;31m---------------------------------------------------------------------------\u001b[0m",
      "\u001b[1;31mIndexError\u001b[0m                                Traceback (most recent call last)",
      "\u001b[1;32m<ipython-input-30-0e04a3cf07d9>\u001b[0m in \u001b[0;36m<module>\u001b[1;34m\u001b[0m\n\u001b[0;32m      1\u001b[0m \u001b[0mfig\u001b[0m\u001b[1;33m,\u001b[0m \u001b[0maxarr\u001b[0m \u001b[1;33m=\u001b[0m \u001b[0mplt\u001b[0m\u001b[1;33m.\u001b[0m\u001b[0msubplots\u001b[0m\u001b[1;33m(\u001b[0m\u001b[1;36m3\u001b[0m\u001b[1;33m)\u001b[0m\u001b[1;33m\u001b[0m\u001b[1;33m\u001b[0m\u001b[0m\n\u001b[0;32m      2\u001b[0m \u001b[1;33m\u001b[0m\u001b[0m\n\u001b[1;32m----> 3\u001b[1;33m \u001b[0maxarr\u001b[0m\u001b[1;33m[\u001b[0m\u001b[1;36m0\u001b[0m\u001b[1;33m]\u001b[0m\u001b[1;33m.\u001b[0m\u001b[0mimshow\u001b[0m\u001b[1;33m(\u001b[0m\u001b[0mf\u001b[0m\u001b[1;33m[\u001b[0m\u001b[1;34m\"data\"\u001b[0m\u001b[1;33m]\u001b[0m\u001b[1;33m.\u001b[0m\u001b[0msqueeze\u001b[0m\u001b[1;33m(\u001b[0m\u001b[1;33m)\u001b[0m\u001b[1;33m[\u001b[0m\u001b[1;36m0\u001b[0m\u001b[1;33m,\u001b[0m \u001b[1;36m16\u001b[0m\u001b[1;33m,\u001b[0m \u001b[1;33m:\u001b[0m\u001b[1;33m,\u001b[0m \u001b[1;33m:\u001b[0m\u001b[1;33m]\u001b[0m\u001b[1;33m)\u001b[0m\u001b[1;33m\u001b[0m\u001b[1;33m\u001b[0m\u001b[0m\n\u001b[0m\u001b[0;32m      4\u001b[0m \u001b[0maxarr\u001b[0m\u001b[1;33m[\u001b[0m\u001b[1;36m1\u001b[0m\u001b[1;33m]\u001b[0m\u001b[1;33m.\u001b[0m\u001b[0mimshow\u001b[0m\u001b[1;33m(\u001b[0m\u001b[0mf\u001b[0m\u001b[1;33m[\u001b[0m\u001b[1;34m\"data\"\u001b[0m\u001b[1;33m]\u001b[0m\u001b[1;33m.\u001b[0m\u001b[0msqueeze\u001b[0m\u001b[1;33m(\u001b[0m\u001b[1;33m)\u001b[0m\u001b[1;33m[\u001b[0m\u001b[1;36m0\u001b[0m\u001b[1;33m,\u001b[0m \u001b[1;33m:\u001b[0m\u001b[1;33m,\u001b[0m \u001b[1;36m16\u001b[0m\u001b[1;33m,\u001b[0m \u001b[1;33m:\u001b[0m\u001b[1;33m]\u001b[0m\u001b[1;33m)\u001b[0m\u001b[1;33m\u001b[0m\u001b[1;33m\u001b[0m\u001b[0m\n\u001b[0;32m      5\u001b[0m \u001b[0mim\u001b[0m \u001b[1;33m=\u001b[0m \u001b[0maxarr\u001b[0m\u001b[1;33m[\u001b[0m\u001b[1;36m2\u001b[0m\u001b[1;33m]\u001b[0m\u001b[1;33m.\u001b[0m\u001b[0mimshow\u001b[0m\u001b[1;33m(\u001b[0m\u001b[0mf\u001b[0m\u001b[1;33m[\u001b[0m\u001b[1;34m\"data\"\u001b[0m\u001b[1;33m]\u001b[0m\u001b[1;33m.\u001b[0m\u001b[0msqueeze\u001b[0m\u001b[1;33m(\u001b[0m\u001b[1;33m)\u001b[0m\u001b[1;33m[\u001b[0m\u001b[1;36m0\u001b[0m\u001b[1;33m,\u001b[0m \u001b[1;33m:\u001b[0m\u001b[1;33m,\u001b[0m \u001b[1;33m:\u001b[0m\u001b[1;33m,\u001b[0m \u001b[1;36m16\u001b[0m\u001b[1;33m]\u001b[0m\u001b[1;33m)\u001b[0m\u001b[1;33m\u001b[0m\u001b[1;33m\u001b[0m\u001b[0m\n",
      "\u001b[1;31mIndexError\u001b[0m: too many indices for array"
     ]
    },
    {
     "data": {
      "image/png": "[encoded data removed]",
      "text/plain": [
       "<Figure size 432x288 with 3 Axes>"
      ]
     },
     "metadata": {
      "needs_background": "light"
     },
     "output_type": "display_data"
    }
   ],
   "source": [
    "fig, axarr = plt.subplots(3)\n",
    "\n",
    "axarr[0].imshow(f[\"data\"].squeeze()[0, 16, :, :])\n",
    "axarr[1].imshow(f[\"data\"].squeeze()[0, :, 16, :])\n",
    "im = axarr[2].imshow(f[\"data\"].squeeze()[0, :, :, 16])\n",
    "fig.colorbar(im)"
   ]
  },
  {
   "cell_type": "code",
   "execution_count": 21,
   "metadata": {},
   "outputs": [
    {
     "data": {
      "text/plain": [
       "819713.06"
      ]
     },
     "execution_count": 21,
     "metadata": {},
     "output_type": "execute_result"
    }
   ],
   "source": [
    "f[\"data\"].max()"
   ]
  },
  {
   "cell_type": "code",
   "execution_count": 22,
   "metadata": {},
   "outputs": [
    {
     "data": {
      "text/plain": [
       "686562.0"
      ]
     },
     "execution_count": 22,
     "metadata": {},
     "output_type": "execute_result"
    }
   ],
   "source": [
    "f[\"crop_data\"].max()"
   ]
  },
  {
   "cell_type": "code",
   "execution_count": 23,
   "metadata": {},
   "outputs": [
    {
     "data": {
      "text/plain": [
       "(409856.53, 410995.28)"
      ]
     },
     "execution_count": 23,
     "metadata": {},
     "output_type": "execute_result"
    }
   ],
   "source": [
    "f[\"data\"].mean(), f[\"crop_data\"].mean()"
   ]
  },
  {
   "cell_type": "code",
   "execution_count": 32,
   "metadata": {},
   "outputs": [
    {
     "name": "stdout",
     "output_type": "stream",
     "text": [
      "0\n",
      "4\n",
      "8\n"
     ]
    }
   ],
   "source": [
    "for i in range(0, 10, 4):\n",
    "    print(i)"
   ]
  },
  {
   "cell_type": "code",
   "execution_count": 59,
   "metadata": {},
   "outputs": [],
   "source": [
    "from itertools import chain, islice\n",
    "\n",
    "def gen():\n",
    "    for i in range(10):\n",
    "        yield i\n",
    "        \n",
    "        \n",
    "def chunks(iterable, size=10):\n",
    "    iterator = iter(iterable)\n",
    "    for first in iterator:\n",
    "        yield chain([first], islice(iterator, size - 1))\n",
    "        \n",
    "nodule_idx = 0\n",
    "for chunk in chunks(gen(), 7):\n",
    "    next_batch = np.stack(list(chunk), axis=0)\n",
    "    nodules = ...\n",
    "    for nodule in nodules:\n",
    "        dets[nodule_idx]...\n",
    "        nodule_idx += 1"
   ]
  },
  {
   "cell_type": "code",
   "execution_count": 60,
   "metadata": {},
   "outputs": [
    {
     "data": {
      "text/plain": [
       "array([7, 8, 9])"
      ]
     },
     "execution_count": 60,
     "metadata": {},
     "output_type": "execute_result"
    }
   ],
   "source": []
  },
  {
   "cell_type": "code",
   "execution_count": 58,
   "metadata": {},
   "outputs": [
    {
     "name": "stdout",
     "output_type": "stream",
     "text": [
      "7\n",
      "3\n"
     ]
    }
   ],
   "source": [
    "for chunk in chunks(gen(), 7):\n",
    "    next_batch = "
   ]
  },
  {
   "cell_type": "code",
   "execution_count": 52,
   "metadata": {},
   "outputs": [
    {
     "data": {
      "text/plain": [
       "1"
      ]
     },
     "execution_count": 52,
     "metadata": {},
     "output_type": "execute_result"
    }
   ],
   "source": [
    "next(chunk)"
   ]
  },
  {
   "cell_type": "code",
   "execution_count": 50,
   "metadata": {},
   "outputs": [
    {
     "ename": "SyntaxError",
     "evalue": "invalid syntax (<ipython-input-50-a3569abea873>, line 3)",
     "output_type": "error",
     "traceback": [
      "\u001b[1;36m  File \u001b[1;32m\"<ipython-input-50-a3569abea873>\"\u001b[1;36m, line \u001b[1;32m3\u001b[0m\n\u001b[1;33m    print 'Chunk %3d, value %d' % (n, el)\u001b[0m\n\u001b[1;37m                              ^\u001b[0m\n\u001b[1;31mSyntaxError\u001b[0m\u001b[1;31m:\u001b[0m invalid syntax\n"
     ]
    }
   ],
   "source": [
    "for n, chunk in enumerate(chunks(els, 2)):\n",
    "    for el in chunk:\n",
    "        print 'Chunk %3d, value %d' % (n, el)"
   ]
  },
  {
   "cell_type": "code",
   "execution_count": null,
   "metadata": {},
   "outputs": [],
   "source": []
  }
 ],
 "metadata": {
  "kernelspec": {
   "display_name": "miccai-abcd",
   "language": "python",
   "name": "miccai-abcd"
  },
  "language_info": {
   "codemirror_mode": {
    "name": "ipython",
    "version": 3
   },
   "file_extension": ".py",
   "mimetype": "text/x-python",
   "name": "python",
   "nbconvert_exporter": "python",
   "pygments_lexer": "ipython3",
   "version": "3.6.8"
  }
 },
 "nbformat": 4,
 "nbformat_minor": 2
}
